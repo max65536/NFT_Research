{
 "cells": [
  {
   "cell_type": "code",
   "execution_count": 20,
   "metadata": {},
   "outputs": [],
   "source": [
    "import requests\n",
    "import pandas as pd\n",
    "import pickle\n",
    "import datetime"
   ]
  },
  {
   "cell_type": "code",
   "execution_count": 31,
   "metadata": {},
   "outputs": [],
   "source": [
    "def datetime_to_day(s):\n",
    "    return s.split()[0]"
   ]
  },
  {
   "cell_type": "code",
   "execution_count": 44,
   "metadata": {},
   "outputs": [],
   "source": [
    "def merge_dump(name):\n",
    "    df = pd.read_csv('data/SVI/SVI_%s.csv'%name, converters={'date':datetime_to_day}).drop(['isPartial'], axis=1)\n",
    "    new_df = df.groupby('date').sum()\n",
    "    new_df.to_csv('data/SVI/merged_SVI_%s.csv'%name)\n",
    "    print(new_df.head())"
   ]
  },
  {
   "cell_type": "code",
   "execution_count": 45,
   "metadata": {},
   "outputs": [
    {
     "name": "stdout",
     "output_type": "stream",
     "text": [
      "            BAYC\n",
      "date            \n",
      "2017-06-30   413\n",
      "2017-07-01   343\n",
      "2017-07-02   244\n",
      "2017-07-03   224\n",
      "2017-07-04   335\n"
     ]
    }
   ],
   "source": [
    "merge_dump('BAYC_all')"
   ]
  },
  {
   "cell_type": "code",
   "execution_count": 46,
   "metadata": {},
   "outputs": [
    {
     "name": "stdout",
     "output_type": "stream",
     "text": [
      "            cryptopunks\n",
      "date                   \n",
      "2017-06-30          240\n",
      "2017-07-01          132\n",
      "2017-07-02           22\n",
      "2017-07-03          175\n",
      "2017-07-04          411\n"
     ]
    }
   ],
   "source": [
    "merge_dump('cryptopunks_all')"
   ]
  },
  {
   "cell_type": "code",
   "execution_count": 49,
   "metadata": {},
   "outputs": [
    {
     "name": "stdout",
     "output_type": "stream",
     "text": [
      "            metaverse\n",
      "date                 \n",
      "2017-06-23         37\n",
      "2017-06-24        143\n",
      "2017-06-25        208\n",
      "2017-06-26        337\n",
      "2017-06-27        101\n"
     ]
    }
   ],
   "source": [
    "merge_dump('metaverse_all')"
   ]
  },
  {
   "cell_type": "code",
   "execution_count": 50,
   "metadata": {},
   "outputs": [
    {
     "name": "stdout",
     "output_type": "stream",
     "text": [
      "            NFT\n",
      "date           \n",
      "2017-06-23  129\n",
      "2017-06-24  114\n",
      "2017-06-25  266\n",
      "2017-06-26  252\n",
      "2017-06-27  134\n"
     ]
    }
   ],
   "source": [
    "merge_dump('NFT_all')"
   ]
  },
  {
   "cell_type": "code",
   "execution_count": 51,
   "metadata": {},
   "outputs": [
    {
     "name": "stdout",
     "output_type": "stream",
     "text": [
      "            Uniswap\n",
      "date               \n",
      "2021-05-12     1400\n",
      "2021-05-13      768\n",
      "2021-05-14      928\n",
      "2021-05-15      899\n",
      "2021-05-16      812\n"
     ]
    }
   ],
   "source": [
    "merge_dump('Uniswap_all')"
   ]
  },
  {
   "cell_type": "code",
   "execution_count": 52,
   "metadata": {},
   "outputs": [
    {
     "name": "stdout",
     "output_type": "stream",
     "text": [
      "            KnownOrigin\n",
      "date                   \n",
      "2018-11-10          182\n",
      "2018-11-11          177\n",
      "2018-11-12          245\n",
      "2018-11-13          266\n",
      "2018-11-14          158\n"
     ]
    }
   ],
   "source": [
    "merge_dump('KnownOrigin_all')"
   ]
  },
  {
   "cell_type": "code",
   "execution_count": 53,
   "metadata": {},
   "outputs": [
    {
     "name": "stdout",
     "output_type": "stream",
     "text": [
      "            Art Blocks\n",
      "date                  \n",
      "2020-12-12          81\n",
      "2020-12-13         146\n",
      "2020-12-14         240\n",
      "2020-12-15          92\n",
      "2020-12-16         199\n"
     ]
    }
   ],
   "source": [
    "merge_dump('Art Blocks_all')"
   ]
  },
  {
   "cell_type": "code",
   "execution_count": 54,
   "metadata": {},
   "outputs": [
    {
     "name": "stdout",
     "output_type": "stream",
     "text": [
      "            Mutant Ape Yacht Club\n",
      "date                             \n",
      "2021-09-05                     97\n",
      "2021-09-06                    136\n",
      "2021-09-07                    185\n",
      "2021-09-08                    192\n",
      "2021-09-09                    249\n"
     ]
    }
   ],
   "source": [
    "merge_dump('Mutant Ape Yacht Club_all')"
   ]
  },
  {
   "cell_type": "code",
   "execution_count": 55,
   "metadata": {},
   "outputs": [
    {
     "name": "stdout",
     "output_type": "stream",
     "text": [
      "            Otherdeed\n",
      "date                 \n",
      "2022-05-01        681\n",
      "2022-05-02        429\n",
      "2022-05-03        216\n",
      "2022-05-04        452\n",
      "2022-05-05        246\n"
     ]
    }
   ],
   "source": [
    "merge_dump('Otherdeed_all')"
   ]
  },
  {
   "cell_type": "code",
   "execution_count": 56,
   "metadata": {},
   "outputs": [
    {
     "name": "stdout",
     "output_type": "stream",
     "text": [
      "            OpenSea Shared Storefront\n",
      "date                                 \n",
      "2020-12-27                        136\n",
      "2020-12-28                        113\n",
      "2020-12-29                        442\n",
      "2020-12-30                        150\n",
      "2020-12-31                        263\n"
     ]
    }
   ],
   "source": [
    "merge_dump('OpenSea Shared Storefront_all')"
   ]
  },
  {
   "cell_type": "code",
   "execution_count": 57,
   "metadata": {},
   "outputs": [
    {
     "name": "stdout",
     "output_type": "stream",
     "text": [
      "            Zora\n",
      "date            \n",
      "2021-02-06   895\n",
      "2021-02-07   682\n",
      "2021-02-08   677\n",
      "2021-02-09   714\n",
      "2021-02-10   562\n"
     ]
    }
   ],
   "source": [
    "merge_dump('Zora_all')"
   ]
  },
  {
   "cell_type": "code",
   "execution_count": 58,
   "metadata": {},
   "outputs": [
    {
     "name": "stdout",
     "output_type": "stream",
     "text": [
      "            Rarible\n",
      "date               \n",
      "2020-07-30      129\n",
      "2020-07-31      180\n",
      "2020-08-01      368\n",
      "2020-08-02      210\n",
      "2020-08-03      286\n"
     ]
    }
   ],
   "source": [
    "merge_dump('Rarible_all')"
   ]
  },
  {
   "cell_type": "code",
   "execution_count": 59,
   "metadata": {},
   "outputs": [
    {
     "name": "stdout",
     "output_type": "stream",
     "text": [
      "            ENS\n",
      "date           \n",
      "2020-02-06  736\n",
      "2020-02-07  642\n",
      "2020-02-08  731\n",
      "2020-02-09  823\n",
      "2020-02-10  708\n"
     ]
    }
   ],
   "source": [
    "merge_dump('ENS_all')"
   ]
  },
  {
   "cell_type": "code",
   "execution_count": 60,
   "metadata": {},
   "outputs": [
    {
     "name": "stdout",
     "output_type": "stream",
     "text": [
      "            bored ape yacht club\n",
      "date                            \n",
      "2021-10-01                   133\n",
      "2021-10-02                   134\n",
      "2021-10-03                   227\n",
      "2021-10-04                   156\n",
      "2021-10-05                   264\n"
     ]
    }
   ],
   "source": [
    "merge_dump('bored_ape')"
   ]
  },
  {
   "cell_type": "code",
   "execution_count": 57,
   "metadata": {},
   "outputs": [],
   "source": [
    "df_BAYC = pd.read_csv('data/SVI/SVI_BAYC.csv', converters={'date':datetime_to_day}).drop(['isPartial'], axis=1)"
   ]
  },
  {
   "cell_type": "code",
   "execution_count": 64,
   "metadata": {},
   "outputs": [
    {
     "data": {
      "text/html": [
       "<div>\n",
       "<style scoped>\n",
       "    .dataframe tbody tr th:only-of-type {\n",
       "        vertical-align: middle;\n",
       "    }\n",
       "\n",
       "    .dataframe tbody tr th {\n",
       "        vertical-align: top;\n",
       "    }\n",
       "\n",
       "    .dataframe thead th {\n",
       "        text-align: right;\n",
       "    }\n",
       "</style>\n",
       "<table border=\"1\" class=\"dataframe\">\n",
       "  <thead>\n",
       "    <tr style=\"text-align: right;\">\n",
       "      <th></th>\n",
       "      <th>BAYC</th>\n",
       "    </tr>\n",
       "    <tr>\n",
       "      <th>date</th>\n",
       "      <th></th>\n",
       "    </tr>\n",
       "  </thead>\n",
       "  <tbody>\n",
       "    <tr>\n",
       "      <td>2021-10-01</td>\n",
       "      <td>300</td>\n",
       "    </tr>\n",
       "    <tr>\n",
       "      <td>2021-10-02</td>\n",
       "      <td>335</td>\n",
       "    </tr>\n",
       "    <tr>\n",
       "      <td>2021-10-03</td>\n",
       "      <td>155</td>\n",
       "    </tr>\n",
       "    <tr>\n",
       "      <td>2021-10-04</td>\n",
       "      <td>179</td>\n",
       "    </tr>\n",
       "    <tr>\n",
       "      <td>2021-10-05</td>\n",
       "      <td>221</td>\n",
       "    </tr>\n",
       "    <tr>\n",
       "      <td>...</td>\n",
       "      <td>...</td>\n",
       "    </tr>\n",
       "    <tr>\n",
       "      <td>2022-09-26</td>\n",
       "      <td>89</td>\n",
       "    </tr>\n",
       "    <tr>\n",
       "      <td>2022-09-27</td>\n",
       "      <td>209</td>\n",
       "    </tr>\n",
       "    <tr>\n",
       "      <td>2022-09-28</td>\n",
       "      <td>313</td>\n",
       "    </tr>\n",
       "    <tr>\n",
       "      <td>2022-09-29</td>\n",
       "      <td>94</td>\n",
       "    </tr>\n",
       "    <tr>\n",
       "      <td>2022-09-30</td>\n",
       "      <td>1290</td>\n",
       "    </tr>\n",
       "  </tbody>\n",
       "</table>\n",
       "<p>365 rows × 1 columns</p>\n",
       "</div>"
      ],
      "text/plain": [
       "            BAYC\n",
       "date            \n",
       "2021-10-01   300\n",
       "2021-10-02   335\n",
       "2021-10-03   155\n",
       "2021-10-04   179\n",
       "2021-10-05   221\n",
       "...          ...\n",
       "2022-09-26    89\n",
       "2022-09-27   209\n",
       "2022-09-28   313\n",
       "2022-09-29    94\n",
       "2022-09-30  1290\n",
       "\n",
       "[365 rows x 1 columns]"
      ]
     },
     "execution_count": 64,
     "metadata": {},
     "output_type": "execute_result"
    }
   ],
   "source": [
    "new_df = df_BAYC.groupby('date').sum()"
   ]
  },
  {
   "cell_type": "code",
   "execution_count": 65,
   "metadata": {},
   "outputs": [],
   "source": [
    "new_df[:365].to_csv('data/SVI/merged_SVI_BAYC.csv')"
   ]
  },
  {
   "cell_type": "code",
   "execution_count": 20,
   "metadata": {},
   "outputs": [
    {
     "data": {
      "text/html": [
       "<div>\n",
       "<style scoped>\n",
       "    .dataframe tbody tr th:only-of-type {\n",
       "        vertical-align: middle;\n",
       "    }\n",
       "\n",
       "    .dataframe tbody tr th {\n",
       "        vertical-align: top;\n",
       "    }\n",
       "\n",
       "    .dataframe thead th {\n",
       "        text-align: right;\n",
       "    }\n",
       "</style>\n",
       "<table border=\"1\" class=\"dataframe\">\n",
       "  <thead>\n",
       "    <tr style=\"text-align: right;\">\n",
       "      <th></th>\n",
       "      <th>date</th>\n",
       "      <th>BAYC</th>\n",
       "      <th>isPartial</th>\n",
       "    </tr>\n",
       "  </thead>\n",
       "  <tbody>\n",
       "    <tr>\n",
       "      <td>0</td>\n",
       "      <td>2021-10-01 00:00:00</td>\n",
       "      <td>0</td>\n",
       "      <td>False</td>\n",
       "    </tr>\n",
       "    <tr>\n",
       "      <td>1</td>\n",
       "      <td>2021-10-01 01:00:00</td>\n",
       "      <td>49</td>\n",
       "      <td>False</td>\n",
       "    </tr>\n",
       "    <tr>\n",
       "      <td>2</td>\n",
       "      <td>2021-10-01 02:00:00</td>\n",
       "      <td>0</td>\n",
       "      <td>False</td>\n",
       "    </tr>\n",
       "    <tr>\n",
       "      <td>3</td>\n",
       "      <td>2021-10-01 03:00:00</td>\n",
       "      <td>0</td>\n",
       "      <td>False</td>\n",
       "    </tr>\n",
       "    <tr>\n",
       "      <td>4</td>\n",
       "      <td>2021-10-01 04:00:00</td>\n",
       "      <td>0</td>\n",
       "      <td>False</td>\n",
       "    </tr>\n",
       "    <tr>\n",
       "      <td>...</td>\n",
       "      <td>...</td>\n",
       "      <td>...</td>\n",
       "      <td>...</td>\n",
       "    </tr>\n",
       "    <tr>\n",
       "      <td>8880</td>\n",
       "      <td>2022-10-03 20:00:00</td>\n",
       "      <td>51</td>\n",
       "      <td>False</td>\n",
       "    </tr>\n",
       "    <tr>\n",
       "      <td>8881</td>\n",
       "      <td>2022-10-03 21:00:00</td>\n",
       "      <td>34</td>\n",
       "      <td>False</td>\n",
       "    </tr>\n",
       "    <tr>\n",
       "      <td>8882</td>\n",
       "      <td>2022-10-03 22:00:00</td>\n",
       "      <td>72</td>\n",
       "      <td>False</td>\n",
       "    </tr>\n",
       "    <tr>\n",
       "      <td>8883</td>\n",
       "      <td>2022-10-03 23:00:00</td>\n",
       "      <td>32</td>\n",
       "      <td>False</td>\n",
       "    </tr>\n",
       "    <tr>\n",
       "      <td>8884</td>\n",
       "      <td>2022-10-04 00:00:00</td>\n",
       "      <td>45</td>\n",
       "      <td>False</td>\n",
       "    </tr>\n",
       "  </tbody>\n",
       "</table>\n",
       "<p>8885 rows × 3 columns</p>\n",
       "</div>"
      ],
      "text/plain": [
       "                     date  BAYC  isPartial\n",
       "0     2021-10-01 00:00:00     0      False\n",
       "1     2021-10-01 01:00:00    49      False\n",
       "2     2021-10-01 02:00:00     0      False\n",
       "3     2021-10-01 03:00:00     0      False\n",
       "4     2021-10-01 04:00:00     0      False\n",
       "...                   ...   ...        ...\n",
       "8880  2022-10-03 20:00:00    51      False\n",
       "8881  2022-10-03 21:00:00    34      False\n",
       "8882  2022-10-03 22:00:00    72      False\n",
       "8883  2022-10-03 23:00:00    32      False\n",
       "8884  2022-10-04 00:00:00    45      False\n",
       "\n",
       "[8885 rows x 3 columns]"
      ]
     },
     "execution_count": 20,
     "metadata": {},
     "output_type": "execute_result"
    }
   ],
   "source": [
    "df_BAYC"
   ]
  },
  {
   "cell_type": "markdown",
   "metadata": {},
   "source": [
    "# Deal with nonfungible data"
   ]
  },
  {
   "cell_type": "code",
   "execution_count": 3,
   "metadata": {},
   "outputs": [],
   "source": [
    "name = \"average_USD_and_active_market_wallets\"\n",
    "df1 = pd.read_csv('data/nonfungible_alltime/%s.csv'%name)"
   ]
  },
  {
   "cell_type": "code",
   "execution_count": 5,
   "metadata": {},
   "outputs": [],
   "source": [
    "name = \"number_of_sales_and_sales_USD\"\n",
    "df2 = pd.read_csv('data/nonfungible_alltime/%s.csv'%name)"
   ]
  },
  {
   "cell_type": "code",
   "execution_count": 6,
   "metadata": {},
   "outputs": [],
   "source": [
    "name = \"primary_sales_and_secondary_sales\"\n",
    "df3 = pd.read_csv('data/nonfungible_alltime/%s.csv'%name)"
   ]
  },
  {
   "cell_type": "code",
   "execution_count": 7,
   "metadata": {},
   "outputs": [],
   "source": [
    "name = \"primary_sales_USD_and_secondary_sales_USD\"\n",
    "df4 = pd.read_csv('data/nonfungible_alltime/%s.csv'%name)"
   ]
  },
  {
   "cell_type": "code",
   "execution_count": 8,
   "metadata": {},
   "outputs": [],
   "source": [
    "name = \"unique_buyers_and_unique_sellers\"\n",
    "df5 = pd.read_csv('data/nonfungible_alltime/%s.csv'%name)"
   ]
  },
  {
   "cell_type": "code",
   "execution_count": 16,
   "metadata": {},
   "outputs": [],
   "source": [
    "df_all = df1.merge(df2, how='left', on='DateTime').merge(df3, how='left', on='DateTime').merge(df4, how='left', on='DateTime').merge(df5, how='left', on='DateTime')"
   ]
  },
  {
   "cell_type": "code",
   "execution_count": 17,
   "metadata": {},
   "outputs": [
    {
     "data": {
      "text/html": [
       "<div>\n",
       "<style scoped>\n",
       "    .dataframe tbody tr th:only-of-type {\n",
       "        vertical-align: middle;\n",
       "    }\n",
       "\n",
       "    .dataframe tbody tr th {\n",
       "        vertical-align: top;\n",
       "    }\n",
       "\n",
       "    .dataframe thead th {\n",
       "        text-align: right;\n",
       "    }\n",
       "</style>\n",
       "<table border=\"1\" class=\"dataframe\">\n",
       "  <thead>\n",
       "    <tr style=\"text-align: right;\">\n",
       "      <th></th>\n",
       "      <th>DateTime</th>\n",
       "      <th>Average USD</th>\n",
       "      <th>Active market wallets</th>\n",
       "      <th>Number of sales</th>\n",
       "      <th>Sales USD</th>\n",
       "      <th>Primary Sales</th>\n",
       "      <th>Secondary sales</th>\n",
       "      <th>Primary sales USD</th>\n",
       "      <th>Secondary sales USD</th>\n",
       "      <th>Unique buyers</th>\n",
       "      <th>Unique sellers</th>\n",
       "    </tr>\n",
       "  </thead>\n",
       "  <tbody>\n",
       "    <tr>\n",
       "      <td>0</td>\n",
       "      <td>2017-06-23 00:00:00</td>\n",
       "      <td>53.70</td>\n",
       "      <td>8</td>\n",
       "      <td>19.0</td>\n",
       "      <td>1020.30</td>\n",
       "      <td>18.0</td>\n",
       "      <td>1.0</td>\n",
       "      <td>953.92</td>\n",
       "      <td>66.38</td>\n",
       "      <td>8</td>\n",
       "      <td>2</td>\n",
       "    </tr>\n",
       "    <tr>\n",
       "      <td>1</td>\n",
       "      <td>2017-06-24 00:00:00</td>\n",
       "      <td>59.09</td>\n",
       "      <td>17</td>\n",
       "      <td>21.0</td>\n",
       "      <td>1240.84</td>\n",
       "      <td>21.0</td>\n",
       "      <td>0.0</td>\n",
       "      <td>1240.84</td>\n",
       "      <td>0.00</td>\n",
       "      <td>9</td>\n",
       "      <td>10</td>\n",
       "    </tr>\n",
       "    <tr>\n",
       "      <td>2</td>\n",
       "      <td>2017-06-25 00:00:00</td>\n",
       "      <td>39.81</td>\n",
       "      <td>10</td>\n",
       "      <td>13.0</td>\n",
       "      <td>517.55</td>\n",
       "      <td>11.0</td>\n",
       "      <td>2.0</td>\n",
       "      <td>402.33</td>\n",
       "      <td>115.22</td>\n",
       "      <td>7</td>\n",
       "      <td>5</td>\n",
       "    </tr>\n",
       "    <tr>\n",
       "      <td>3</td>\n",
       "      <td>2017-06-26 00:00:00</td>\n",
       "      <td>30.33</td>\n",
       "      <td>14</td>\n",
       "      <td>14.0</td>\n",
       "      <td>424.63</td>\n",
       "      <td>14.0</td>\n",
       "      <td>0.0</td>\n",
       "      <td>424.63</td>\n",
       "      <td>0.00</td>\n",
       "      <td>6</td>\n",
       "      <td>8</td>\n",
       "    </tr>\n",
       "    <tr>\n",
       "      <td>4</td>\n",
       "      <td>2017-06-27 00:00:00</td>\n",
       "      <td>63.42</td>\n",
       "      <td>22</td>\n",
       "      <td>33.0</td>\n",
       "      <td>2092.91</td>\n",
       "      <td>32.0</td>\n",
       "      <td>1.0</td>\n",
       "      <td>2049.94</td>\n",
       "      <td>42.98</td>\n",
       "      <td>8</td>\n",
       "      <td>15</td>\n",
       "    </tr>\n",
       "    <tr>\n",
       "      <td>...</td>\n",
       "      <td>...</td>\n",
       "      <td>...</td>\n",
       "      <td>...</td>\n",
       "      <td>...</td>\n",
       "      <td>...</td>\n",
       "      <td>...</td>\n",
       "      <td>...</td>\n",
       "      <td>...</td>\n",
       "      <td>...</td>\n",
       "      <td>...</td>\n",
       "      <td>...</td>\n",
       "    </tr>\n",
       "    <tr>\n",
       "      <td>1958</td>\n",
       "      <td>2022-11-02 00:00:00</td>\n",
       "      <td>1916.38</td>\n",
       "      <td>12225</td>\n",
       "      <td>15697.0</td>\n",
       "      <td>30081434.97</td>\n",
       "      <td>4117.0</td>\n",
       "      <td>11580.0</td>\n",
       "      <td>2624596.78</td>\n",
       "      <td>27456838.19</td>\n",
       "      <td>7401</td>\n",
       "      <td>6269</td>\n",
       "    </tr>\n",
       "    <tr>\n",
       "      <td>1959</td>\n",
       "      <td>2022-11-03 00:00:00</td>\n",
       "      <td>1043.25</td>\n",
       "      <td>12464</td>\n",
       "      <td>16355.0</td>\n",
       "      <td>17062305.81</td>\n",
       "      <td>3895.0</td>\n",
       "      <td>12460.0</td>\n",
       "      <td>1112485.36</td>\n",
       "      <td>15949820.45</td>\n",
       "      <td>7487</td>\n",
       "      <td>6250</td>\n",
       "    </tr>\n",
       "    <tr>\n",
       "      <td>1960</td>\n",
       "      <td>2022-11-04 00:00:00</td>\n",
       "      <td>1172.42</td>\n",
       "      <td>11724</td>\n",
       "      <td>14349.0</td>\n",
       "      <td>16823092.98</td>\n",
       "      <td>3854.0</td>\n",
       "      <td>10495.0</td>\n",
       "      <td>1091245.43</td>\n",
       "      <td>15731847.55</td>\n",
       "      <td>7090</td>\n",
       "      <td>5804</td>\n",
       "    </tr>\n",
       "    <tr>\n",
       "      <td>1961</td>\n",
       "      <td>2022-11-05 00:00:00</td>\n",
       "      <td>894.75</td>\n",
       "      <td>11206</td>\n",
       "      <td>13748.0</td>\n",
       "      <td>12301075.84</td>\n",
       "      <td>3839.0</td>\n",
       "      <td>9909.0</td>\n",
       "      <td>598608.41</td>\n",
       "      <td>11702467.44</td>\n",
       "      <td>6754</td>\n",
       "      <td>5552</td>\n",
       "    </tr>\n",
       "    <tr>\n",
       "      <td>1962</td>\n",
       "      <td>2022-11-06 07:44:43</td>\n",
       "      <td>850.89</td>\n",
       "      <td>11185</td>\n",
       "      <td>NaN</td>\n",
       "      <td>NaN</td>\n",
       "      <td>3872.0</td>\n",
       "      <td>NaN</td>\n",
       "      <td>NaN</td>\n",
       "      <td>11248914.91</td>\n",
       "      <td>6786</td>\n",
       "      <td>5531</td>\n",
       "    </tr>\n",
       "  </tbody>\n",
       "</table>\n",
       "<p>1963 rows × 11 columns</p>\n",
       "</div>"
      ],
      "text/plain": [
       "                 DateTime  Average USD  Active market wallets  \\\n",
       "0     2017-06-23 00:00:00        53.70                      8   \n",
       "1     2017-06-24 00:00:00        59.09                     17   \n",
       "2     2017-06-25 00:00:00        39.81                     10   \n",
       "3     2017-06-26 00:00:00        30.33                     14   \n",
       "4     2017-06-27 00:00:00        63.42                     22   \n",
       "...                   ...          ...                    ...   \n",
       "1958  2022-11-02 00:00:00      1916.38                  12225   \n",
       "1959  2022-11-03 00:00:00      1043.25                  12464   \n",
       "1960  2022-11-04 00:00:00      1172.42                  11724   \n",
       "1961  2022-11-05 00:00:00       894.75                  11206   \n",
       "1962  2022-11-06 07:44:43       850.89                  11185   \n",
       "\n",
       "      Number of sales    Sales USD  Primary Sales  Secondary sales  \\\n",
       "0                19.0      1020.30           18.0              1.0   \n",
       "1                21.0      1240.84           21.0              0.0   \n",
       "2                13.0       517.55           11.0              2.0   \n",
       "3                14.0       424.63           14.0              0.0   \n",
       "4                33.0      2092.91           32.0              1.0   \n",
       "...               ...          ...            ...              ...   \n",
       "1958          15697.0  30081434.97         4117.0          11580.0   \n",
       "1959          16355.0  17062305.81         3895.0          12460.0   \n",
       "1960          14349.0  16823092.98         3854.0          10495.0   \n",
       "1961          13748.0  12301075.84         3839.0           9909.0   \n",
       "1962              NaN          NaN         3872.0              NaN   \n",
       "\n",
       "      Primary sales USD  Secondary sales USD  Unique buyers  Unique sellers  \n",
       "0                953.92                66.38              8               2  \n",
       "1               1240.84                 0.00              9              10  \n",
       "2                402.33               115.22              7               5  \n",
       "3                424.63                 0.00              6               8  \n",
       "4               2049.94                42.98              8              15  \n",
       "...                 ...                  ...            ...             ...  \n",
       "1958         2624596.78          27456838.19           7401            6269  \n",
       "1959         1112485.36          15949820.45           7487            6250  \n",
       "1960         1091245.43          15731847.55           7090            5804  \n",
       "1961          598608.41          11702467.44           6754            5552  \n",
       "1962                NaN          11248914.91           6786            5531  \n",
       "\n",
       "[1963 rows x 11 columns]"
      ]
     },
     "execution_count": 17,
     "metadata": {},
     "output_type": "execute_result"
    }
   ],
   "source": [
    "df_all"
   ]
  },
  {
   "cell_type": "code",
   "execution_count": 18,
   "metadata": {},
   "outputs": [],
   "source": [
    "df_all.to_csv('data_all_alltime.csv')"
   ]
  },
  {
   "cell_type": "markdown",
   "metadata": {},
   "source": [
    "# BAYC and Cryptopunks prices"
   ]
  },
  {
   "cell_type": "code",
   "execution_count": 30,
   "metadata": {},
   "outputs": [],
   "source": [
    "def str_to_float(s):\n",
    "    return float(s)"
   ]
  },
  {
   "cell_type": "code",
   "execution_count": 29,
   "metadata": {},
   "outputs": [],
   "source": [
    "def null_str_to_nan(s):\n",
    "    if s=='':\n",
    "        return np.nan\n",
    "    else:\n",
    "        return s"
   ]
  },
  {
   "cell_type": "code",
   "execution_count": null,
   "metadata": {},
   "outputs": [],
   "source": [
    "prices_BAYC = pickle.load(open('data/BAYC_collection_price_full_month.pickle','rb'))\n",
    "prices_cryptopunks = pickle.load(open('data/cryptopunks_collection_price_full_month.pickle','rb'))"
   ]
  },
  {
   "cell_type": "code",
   "execution_count": null,
   "metadata": {},
   "outputs": [],
   "source": [
    "df_price_BAYC = pd.DataFrame(prices_BAYC).astype({'avg':'float'})\n",
    "df_price_cryptopunks = pd.DataFrame(prices_cryptopunks).applymap(null_str_to_nan)"
   ]
  },
  {
   "cell_type": "code",
   "execution_count": null,
   "metadata": {},
   "outputs": [],
   "source": []
  }
 ],
 "metadata": {
  "kernelspec": {
   "display_name": "Python 3",
   "language": "python",
   "name": "python3"
  },
  "language_info": {
   "codemirror_mode": {
    "name": "ipython",
    "version": 3
   },
   "file_extension": ".py",
   "mimetype": "text/x-python",
   "name": "python",
   "nbconvert_exporter": "python",
   "pygments_lexer": "ipython3",
   "version": "3.7.4"
  }
 },
 "nbformat": 4,
 "nbformat_minor": 2
}
